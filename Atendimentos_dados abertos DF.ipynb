{
 "cells": [
  {
   "cell_type": "markdown",
   "metadata": {},
   "source": [
    "Atendimentos de Consultas\n",
    "Governo do Distrito Federal em http://dados.df.gov.br/dataset/atendimentos-e-consultas"
   ]
  },
  {
   "cell_type": "code",
   "execution_count": 1,
   "metadata": {},
   "outputs": [],
   "source": [
    "import pandas as pd\n",
    "%matplotlib inline"
   ]
  },
  {
   "cell_type": "code",
   "execution_count": 2,
   "metadata": {},
   "outputs": [
    {
     "data": {
      "text/html": [
       "<div>\n",
       "<style scoped>\n",
       "    .dataframe tbody tr th:only-of-type {\n",
       "        vertical-align: middle;\n",
       "    }\n",
       "\n",
       "    .dataframe tbody tr th {\n",
       "        vertical-align: top;\n",
       "    }\n",
       "\n",
       "    .dataframe thead th {\n",
       "        text-align: right;\n",
       "    }\n",
       "</style>\n",
       "<table border=\"1\" class=\"dataframe\">\n",
       "  <thead>\n",
       "    <tr style=\"text-align: right;\">\n",
       "      <th></th>\n",
       "      <th>ano_mes</th>\n",
       "      <th>estabelecimento_cnes</th>\n",
       "      <th>complexidade</th>\n",
       "      <th>cod_grupo</th>\n",
       "      <th>grupo</th>\n",
       "      <th>cod_subgrupo</th>\n",
       "      <th>cod_procedimento</th>\n",
       "      <th>procedimento</th>\n",
       "      <th>quantidade</th>\n",
       "      <th>cod_carater_atendimento</th>\n",
       "      <th>carater_atendimento</th>\n",
       "      <th>cod_forma_organizacao</th>\n",
       "    </tr>\n",
       "  </thead>\n",
       "  <tbody>\n",
       "    <tr>\n",
       "      <th>0</th>\n",
       "      <td>201701</td>\n",
       "      <td>0010499 HRT Hospital Regional de Taguatinga</td>\n",
       "      <td>Atenção Básica</td>\n",
       "      <td>1</td>\n",
       "      <td>01- Ações de Promoção e Prevenção em Saúde</td>\n",
       "      <td>101</td>\n",
       "      <td>101020058</td>\n",
       "      <td>Aplicação de Cariostático (por Dente)</td>\n",
       "      <td>18</td>\n",
       "      <td>1</td>\n",
       "      <td>Eletivo</td>\n",
       "      <td>10102</td>\n",
       "    </tr>\n",
       "    <tr>\n",
       "      <th>1</th>\n",
       "      <td>201701</td>\n",
       "      <td>0010537 HMIB Hospital Materno Infantil de Bras...</td>\n",
       "      <td>Atenção Básica</td>\n",
       "      <td>1</td>\n",
       "      <td>01- Ações de Promoção e Prevenção em Saúde</td>\n",
       "      <td>101</td>\n",
       "      <td>101020058</td>\n",
       "      <td>Aplicação de Cariostático (por Dente)</td>\n",
       "      <td>1</td>\n",
       "      <td>1</td>\n",
       "      <td>Eletivo</td>\n",
       "      <td>10102</td>\n",
       "    </tr>\n",
       "    <tr>\n",
       "      <th>2</th>\n",
       "      <td>201701</td>\n",
       "      <td>0010499 HRT Hospital Regional de Taguatinga</td>\n",
       "      <td>Atenção Básica</td>\n",
       "      <td>1</td>\n",
       "      <td>01- Ações de Promoção e Prevenção em Saúde</td>\n",
       "      <td>101</td>\n",
       "      <td>101020058</td>\n",
       "      <td>Aplicação de Cariostático (por Dente)</td>\n",
       "      <td>26</td>\n",
       "      <td>1</td>\n",
       "      <td>Eletivo</td>\n",
       "      <td>10102</td>\n",
       "    </tr>\n",
       "    <tr>\n",
       "      <th>3</th>\n",
       "      <td>201701</td>\n",
       "      <td>0010499 HRT Hospital Regional de Taguatinga</td>\n",
       "      <td>Atenção Básica</td>\n",
       "      <td>1</td>\n",
       "      <td>01- Ações de Promoção e Prevenção em Saúde</td>\n",
       "      <td>101</td>\n",
       "      <td>101020058</td>\n",
       "      <td>Aplicação de Cariostático (por Dente)</td>\n",
       "      <td>12</td>\n",
       "      <td>1</td>\n",
       "      <td>Eletivo</td>\n",
       "      <td>10102</td>\n",
       "    </tr>\n",
       "    <tr>\n",
       "      <th>4</th>\n",
       "      <td>201701</td>\n",
       "      <td>0010499 HRT Hospital Regional de Taguatinga</td>\n",
       "      <td>Atenção Básica</td>\n",
       "      <td>1</td>\n",
       "      <td>01- Ações de Promoção e Prevenção em Saúde</td>\n",
       "      <td>101</td>\n",
       "      <td>101020058</td>\n",
       "      <td>Aplicação de Cariostático (por Dente)</td>\n",
       "      <td>12</td>\n",
       "      <td>1</td>\n",
       "      <td>Eletivo</td>\n",
       "      <td>10102</td>\n",
       "    </tr>\n",
       "  </tbody>\n",
       "</table>\n",
       "</div>"
      ],
      "text/plain": [
       "   ano_mes                               estabelecimento_cnes    complexidade  \\\n",
       "0   201701        0010499 HRT Hospital Regional de Taguatinga  Atenção Básica   \n",
       "1   201701  0010537 HMIB Hospital Materno Infantil de Bras...  Atenção Básica   \n",
       "2   201701        0010499 HRT Hospital Regional de Taguatinga  Atenção Básica   \n",
       "3   201701        0010499 HRT Hospital Regional de Taguatinga  Atenção Básica   \n",
       "4   201701        0010499 HRT Hospital Regional de Taguatinga  Atenção Básica   \n",
       "\n",
       "   cod_grupo                                       grupo  cod_subgrupo  \\\n",
       "0          1  01- Ações de Promoção e Prevenção em Saúde           101   \n",
       "1          1  01- Ações de Promoção e Prevenção em Saúde           101   \n",
       "2          1  01- Ações de Promoção e Prevenção em Saúde           101   \n",
       "3          1  01- Ações de Promoção e Prevenção em Saúde           101   \n",
       "4          1  01- Ações de Promoção e Prevenção em Saúde           101   \n",
       "\n",
       "   cod_procedimento                           procedimento  quantidade  \\\n",
       "0         101020058  Aplicação de Cariostático (por Dente)          18   \n",
       "1         101020058  Aplicação de Cariostático (por Dente)           1   \n",
       "2         101020058  Aplicação de Cariostático (por Dente)          26   \n",
       "3         101020058  Aplicação de Cariostático (por Dente)          12   \n",
       "4         101020058  Aplicação de Cariostático (por Dente)          12   \n",
       "\n",
       "   cod_carater_atendimento carater_atendimento  cod_forma_organizacao  \n",
       "0                        1             Eletivo                  10102  \n",
       "1                        1             Eletivo                  10102  \n",
       "2                        1             Eletivo                  10102  \n",
       "3                        1             Eletivo                  10102  \n",
       "4                        1             Eletivo                  10102  "
      ]
     },
     "execution_count": 2,
     "metadata": {},
     "output_type": "execute_result"
    }
   ],
   "source": [
    "df = pd.read_csv('sia012017.csv', encoding='cp1252')\n",
    "df.head()"
   ]
  },
  {
   "cell_type": "code",
   "execution_count": 3,
   "metadata": {},
   "outputs": [
    {
     "data": {
      "text/plain": [
       "(174870, 12)"
      ]
     },
     "execution_count": 3,
     "metadata": {},
     "output_type": "execute_result"
    }
   ],
   "source": [
    "#verificando tamanho do df (linhas e colunas)\n",
    "df.shape"
   ]
  },
  {
   "cell_type": "code",
   "execution_count": 4,
   "metadata": {},
   "outputs": [
    {
     "name": "stdout",
     "output_type": "stream",
     "text": [
      "<class 'pandas.core.frame.DataFrame'>\n",
      "RangeIndex: 174870 entries, 0 to 174869\n",
      "Data columns (total 12 columns):\n",
      "ano_mes                    174870 non-null int64\n",
      "estabelecimento_cnes       174870 non-null object\n",
      "complexidade               174870 non-null object\n",
      "cod_grupo                  174870 non-null int64\n",
      "grupo                      174870 non-null object\n",
      "cod_subgrupo               174870 non-null int64\n",
      "cod_procedimento           174870 non-null int64\n",
      "procedimento               174870 non-null object\n",
      "quantidade                 174870 non-null int64\n",
      "cod_carater_atendimento    174870 non-null int64\n",
      "carater_atendimento        174870 non-null object\n",
      "cod_forma_organizacao      174870 non-null int64\n",
      "dtypes: int64(7), object(5)\n",
      "memory usage: 12.7+ MB\n"
     ]
    }
   ],
   "source": [
    "df.info()"
   ]
  },
  {
   "cell_type": "code",
   "execution_count": 5,
   "metadata": {},
   "outputs": [
    {
     "data": {
      "text/plain": [
       "estabelecimento_cnes\n",
       "2816741 Farmacia de Alto Custo Asa Sul                   674022\n",
       "6926967 Farmacia de Alto Custo Ceilândia                 466874\n",
       "0010456 HBDF Hospital de Base do Distrito Federal        224600\n",
       "0010464 HRAN Hospital Regional da Asa Norte              119804\n",
       "0010510 HUB Hospital Universitario de Brasília           109263\n",
       "0010499 HRT Hospital Regional de Taguatinga               86088\n",
       "7765916 Central de Regulação do SAMU Distrito Federal     82699\n",
       "0010529 HRPl Hospital Regional de Planaltina              79004\n",
       "7465157 UPA Ceilândia                                     75329\n",
       "0011339 FHB Fundacao Hemocentro de Brasília               70908\n",
       "Name: quantidade, dtype: int64"
      ]
     },
     "execution_count": 5,
     "metadata": {},
     "output_type": "execute_result"
    }
   ],
   "source": [
    "#quais foram os 10 locais que mais realizaram atendimentos? quantos?\n",
    "df.groupby('estabelecimento_cnes')['quantidade'].sum().sort_values(ascending=False).head(10)                      "
   ]
  },
  {
   "cell_type": "code",
   "execution_count": 6,
   "metadata": {},
   "outputs": [
    {
     "data": {
      "text/plain": [
       "procedimento\n",
       "Atendimento de Urgência em Atencão Especializada                                                       139201\n",
       "Consulta Medica em Atenção Especializada                                                               128235\n",
       "Tacrolimo 1 Mg (por Capsula)                                                                           115277\n",
       "Consulta Medica em Atençao Basica                                                                      108043\n",
       "Afericão de Pressao Artérial                                                                            79885\n",
       "Sevelamer 800 Mg (por Comprimido)                                                                       75810\n",
       "Complemento Alimentar p/ Paciente Fenilcetonurico Maior de 1 Ano - Formula de Aminoácidos Isenta De     72936\n",
       "Samu 192:atendimento das Chamadas Recebidas Pela Central de Regulação das Urgências                     69905\n",
       "Atorvastatina 20 Mg (por Comprimido)                                                                    66915\n",
       "Micofenolato de Sodio 360 Mg (por Comprimido)                                                           65847\n",
       "Name: quantidade, dtype: int64"
      ]
     },
     "execution_count": 6,
     "metadata": {},
     "output_type": "execute_result"
    }
   ],
   "source": [
    "#quais foram os 10 procedimentos mais realizados?\n",
    "df.groupby('procedimento')['quantidade'].sum().sort_values(ascending=False).head(10)                        "
   ]
  },
  {
   "cell_type": "code",
   "execution_count": 7,
   "metadata": {},
   "outputs": [
    {
     "data": {
      "text/plain": [
       "procedimento\n",
       "Entecavir 1.0 Mg (por Comprimido)                          0\n",
       "Galantamina 16 Mg (por Capsula de Liberação Prolongada)    0\n",
       "Primidona 100 Mg (por Comprimido)                          0\n",
       "Clobazam 10 Mg (por Comprimido)                            0\n",
       "Codeina 30 Mg (por Comprimido)                             0\n",
       "Morfina 10 Mg (por Comprimido)                             0\n",
       "Metadona 10 Mg (por Comprimido)                            0\n",
       "Naproxeno 500 Mg (por Comprimido)                          0\n",
       "Mesalazina 800 Mg - por Comprimidoÿ                        0\n",
       "Mesalazina 3 G + Diluente 100 Ml (enema) - por Dose        0\n",
       "Name: quantidade, dtype: int64"
      ]
     },
     "execution_count": 7,
     "metadata": {},
     "output_type": "execute_result"
    }
   ],
   "source": [
    "#quais foram os 10 procedimentos menos procurados?\n",
    "df.groupby('procedimento')['quantidade'].sum().sort_values(ascending=True).head(10)                    "
   ]
  },
  {
   "cell_type": "code",
   "execution_count": 8,
   "metadata": {},
   "outputs": [
    {
     "data": {
      "text/plain": [
       "<matplotlib.axes._subplots.AxesSubplot at 0x795aab0>"
      ]
     },
     "execution_count": 8,
     "metadata": {},
     "output_type": "execute_result"
    },
    {
     "data": {
      "image/png": "[encoded data removed]",
      "text/plain": [
       "<Figure size 432x288 with 1 Axes>"
      ]
     },
     "metadata": {
      "needs_background": "light"
     },
     "output_type": "display_data"
    }
   ],
   "source": [
    "#gráfico de atendimentos por nível de complexidade\n",
    "df.groupby('complexidade')['quantidade'].sum().sort_values().plot.barh(title='Atendimentos por nível de complexidade')"
   ]
  },
  {
   "cell_type": "code",
   "execution_count": 9,
   "metadata": {
    "scrolled": true
   },
   "outputs": [
    {
     "data": {
      "text/plain": [
       "grupo\n",
       "06 - Medicamentos                                                                        1143316\n",
       "02 - Procedimentos com Finalidade Diagnóstica                                            1027314\n",
       "03 - Procedimentos Clínicos                                                               980273\n",
       "01- Ações de Promoção e Prevenção em Saúde                                                143493\n",
       "04 - Procedimentos Cirúrgicos                                                              21747\n",
       "08 - Ações Complementares da Atenção à Saúde, Órteses, Próteses e Materiais Especiais       6358\n",
       "07 - Órteses, Próteses e Materiais Especiais                                                4646\n",
       "05 - Transplantes de Orgãos, Tecidos e Células                                              3214\n",
       "Name: quantidade, dtype: int64"
      ]
     },
     "execution_count": 9,
     "metadata": {},
     "output_type": "execute_result"
    }
   ],
   "source": [
    "#quais são os grupos de procedimentos atendidos por ordem de procura dos pacientes?\n",
    "df.groupby('grupo')['quantidade'].sum().sort_values(ascending=False)"
   ]
  },
  {
   "cell_type": "code",
   "execution_count": 10,
   "metadata": {},
   "outputs": [
    {
     "data": {
      "text/plain": [
       "carater_atendimento\n",
       "Informação inexistente  (bpa-c)                       2085728\n",
       "Eletivo                                               1241302\n",
       "Urgência                                                 3330\n",
       "Acidente no local trabalho ou a serviço da empresa          1\n",
       "Name: quantidade, dtype: int64"
      ]
     },
     "execution_count": 10,
     "metadata": {},
     "output_type": "execute_result"
    }
   ],
   "source": [
    "#quais são os tipos de atendimentos por carater?\n",
    "df.groupby('carater_atendimento')['quantidade'].sum().sort_values(ascending=False)"
   ]
  },
  {
   "cell_type": "code",
   "execution_count": 11,
   "metadata": {},
   "outputs": [
    {
     "data": {
      "text/plain": [
       "3330361"
      ]
     },
     "execution_count": 11,
     "metadata": {},
     "output_type": "execute_result"
    }
   ],
   "source": [
    "#quantidade total de atendimentos da base?\n",
    "df['quantidade'].sum()"
   ]
  }
 ],
 "metadata": {
  "kernelspec": {
   "display_name": "Python 3",
   "language": "python",
   "name": "python3"
  },
  "language_info": {
   "codemirror_mode": {
    "name": "ipython",
    "version": 3
   },
   "file_extension": ".py",
   "mimetype": "text/x-python",
   "name": "python",
   "nbconvert_exporter": "python",
   "pygments_lexer": "ipython3",
   "version": "3.7.3"
  }
 },
 "nbformat": 4,
 "nbformat_minor": 2
}
